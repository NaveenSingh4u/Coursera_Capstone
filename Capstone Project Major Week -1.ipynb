{
    "cells": [
        {
            "cell_type": "markdown",
            "metadata": {
                "collapsed": true
            },
            "source": "**The Battle of the Neighborhoods - Week 1**\n"
        },
        {
            "cell_type": "markdown",
            "metadata": {},
            "source": "**Introduction & Business Problem :**"
        },
        {
            "cell_type": "markdown",
            "metadata": {},
            "source": "**Problem Background:**"
        },
        {
            "cell_type": "markdown",
            "metadata": {},
            "source": "The City of Los Angeles CA, is the second most populous city in the United States with population 4,057,841. It provides lot of business oppourtunities and business friendly environment. It has attracted many different players into the market. Home to celebrities, artists and free spirits, Los Angeles never stops attracting people from every corner of the globe. This cosmopolitan city offers a hub for the entertainment industry as well as easy access to beaches, forests and hiking trails. Those looking for ideal weather, ample job opportunities and plenty of diversity will find it in LA. It is a global hub of business and commerce. The city is a major center for banking and finance, retailing, world trade, transportation, tourism, real estate, new media, traditional media, advertising, legal services, accountancy, insurance, theater, fashion, and the arts in the United States.\n\nThis also means that the market is highly competitive. As it is highly developed city so cost of doing business is also one of the highest. Thus, any new business venture or expansion needs to be analysed carefully. The insights derived from analysis will give good understanding of the business environment which help in strategically targeting the market. This will help in reduction of risk. And the Return on Investment will be reasonable."
        },
        {
            "cell_type": "markdown",
            "metadata": {},
            "source": "**Problem Description:**"
        },
        {
            "cell_type": "markdown",
            "metadata": {},
            "source": "A restaurant is a business which prepares and serves food and drink to customers in return for money, either paid before the meal, after the meal, or with an open account. The City of Los Angeles CA is famous for its excelllent cuisine. It is food culture includes an array of international cuisines influenced by the city's immigrant history."
        },
        {
            "cell_type": "markdown",
            "metadata": {},
            "source": "The English poet William Cowper is often credited with saying \u201cvariety is the spice of life, that gives it all its flavour\u201d. When it comes to food in L.A, this couldn\u2019t be truer. On your next trip to Los Angeles, discover the city\u2019s cultural influences through its restaurants and food trucks to get a real taste of La-La-Land."
        },
        {
            "cell_type": "markdown",
            "metadata": {},
            "source": "So it is evident that to survive in such competitive market it is very important to startegically plan. Various factors need to be studied inorder to decide on the Location such as :\n\n    1.Los Angeles Population\n    2.Los Angeles City Demographics\n    3.Are there any Farmers Markets, Wholesale markets etc nearby so that the ingredients can be purchased fresh to maintain quality and cost?\n    4.Are there any venues like Gyms, Entertainmnet zones, Parks etc nearby where floating population is high etc\n    5.Who are the competitors in that location?\n    6.Cuisine served / Menu of the competitors\n    7.Segmentation of the Borough\n    8.Untapped markets\n    9.Saturated markets etc\n    10.The list can go on...\n"
        },
        {
            "cell_type": "markdown",
            "metadata": {},
            "source": "Eventhough well funded XYZ Company Ltd. need to choose the correct location to start its first venture.If this is successful they can replicate the same in other locations. First move is very important, thereby choice of location is very important."
        },
        {
            "cell_type": "markdown",
            "metadata": {},
            "source": "**Target Audience:**"
        },
        {
            "cell_type": "markdown",
            "metadata": {},
            "source": "To recommend the correct location, XYZ Company Ltd has appointed me to lead of the Data Science team. The objective is to locate and recommend to the management which neighborhood of Los Angeles city will be best choice to start a restaurant. The Management also expects to understand the rationale of the recommendations made.\n\nThis would interest anyone who wants to start a new restaurant in Los Angeles city."
        },
        {
            "cell_type": "markdown",
            "metadata": {},
            "source": "**Success Criteria:**"
        },
        {
            "cell_type": "markdown",
            "metadata": {},
            "source": "The success criteria of the project will be a good recommendation of borough/Neighborhood choice to XYZ Company Ltd based on Lack of such restaurants in that location and nearest suppliers of ingredients."
        },
        {
            "cell_type": "code",
            "execution_count": null,
            "metadata": {},
            "outputs": [],
            "source": ""
        }
    ],
    "metadata": {
        "kernelspec": {
            "display_name": "Python 3.6",
            "language": "python",
            "name": "python3"
        },
        "language_info": {
            "codemirror_mode": {
                "name": "ipython",
                "version": 3
            },
            "file_extension": ".py",
            "mimetype": "text/x-python",
            "name": "python",
            "nbconvert_exporter": "python",
            "pygments_lexer": "ipython3",
            "version": "3.6.9"
        }
    },
    "nbformat": 4,
    "nbformat_minor": 1
}